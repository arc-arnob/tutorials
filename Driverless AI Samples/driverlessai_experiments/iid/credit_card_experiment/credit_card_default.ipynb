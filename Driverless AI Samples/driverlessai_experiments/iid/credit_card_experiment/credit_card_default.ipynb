{
 "cells": [
  {
   "cell_type": "markdown",
   "metadata": {},
   "source": [
    "# Driverless AI: Using the Python API\n",
    "This notebook provides an H2OAI Client workflow, of model building and scoring, that parallels the Driverless AI workflow.\n",
    "\n",
    "## Notes:\n",
    "\n",
    "* This is an early release of the Driverless AI Python client.\n",
    "* This notebook is specifically for the Driverless AI 1.8.X series.\n",
    "* Python 3.6 is the only supported version.\n",
    "* You must install the `h2oai_client` wheel to your local Python. This is available from the RESOURCES link in the top menu of the UI.\n",
    "\n",
    "![py-client](images/py_client_link.png)"
   ]
  },
  {
   "cell_type": "markdown",
   "metadata": {},
   "source": [
    "## Workflow Steps\n",
    "\n",
    "**Build an Experiment with Python API:**\n",
    "\n",
    "1. Sign in\n",
    "2. Import train & test set/new data\n",
    "3. Specify experiment parameters\n",
    "4. Launch Experiement\n",
    "5. Examine Experiment\n",
    "6. Download Predictions\n",
    "    \n",
    "**Build an Experiment in Web UI and Access Through Python:**\n",
    "\n",
    "1. Get pointer to experiment\n",
    "    \n",
    "**Score on New Data:**\n",
    "\n",
    "1. Score on new data with H2OAI model\n",
    "\n",
    "**Model Diagnostics on New Data:**\n",
    "\n",
    "1. Run model diagnostincs on new data with H2OAI model\n",
    "\n",
    "**Run Model Interpretation**\n",
    "\n",
    "1. Run model interpretation on the raw features\n",
    "\n",
    "**Build Scoring Pipelines**\n",
    "\n",
    "1. Build Python Scoring Pipeline\n",
    "2. Build MOJO Scoring Pipeline"
   ]
  },
  {
   "cell_type": "markdown",
   "metadata": {},
   "source": [
    "## Build an Experiment with Python API\n",
    "\n",
    "### 1. Sign In\n",
    "\n",
    "Import the required modules and log in.\n",
    "\n",
    "Pass in your credentials through the Client class which creates an authentication token to send to the Driverless AI Server. In plain English: to sign into the Driverless AI web page (which then sends requests to the Driverless Server), instantiate the Client class with your Driverless AI address and login credentials."
   ]
  },
  {
   "cell_type": "code",
   "execution_count": 1,
   "metadata": {},
   "outputs": [],
   "source": [
    "import h2oai_client\n",
    "import numpy as np\n",
    "import pandas as pd\n",
    "# import h2o\n",
    "import requests\n",
    "import math\n",
    "from h2oai_client import Client, ModelParameters, InterpretParameters"
   ]
  },
  {
   "cell_type": "code",
   "execution_count": 2,
   "metadata": {},
   "outputs": [],
   "source": [
    "address = 'http://ip_where_driverless_is_running:12345'\n",
    "username = 'username'\n",
    "password = 'password'\n",
    "h2oai = Client(address = address, username = username, password = password)\n",
    "# make sure to use the same user name and password when signing in through the GUI"
   ]
  },
  {
   "cell_type": "markdown",
   "metadata": {
    "collapsed": true
   },
   "source": [
    "#### Equivalent Steps in Driverless: Signing In\n",
    "![Equivalent Steps in Driverless: Signing In](images/sign_in_home_page_0.png)\n",
    "\n",
    "![Equivalent Steps in Driverless: Signing In](images/skip_sign_in_home_page_1.png)"
   ]
  },
  {
   "cell_type": "markdown",
   "metadata": {},
   "source": [
    "### 2. Upload Datasets\n",
    "\n",
    "Upload training and testing datasets from the Driverless AI **/data** folder.\n",
    "\n",
    "You can provide a training, validation, and testing dataset for an experiment.  The validation and testing dataset are optional.  In this example, we will provide only training and testing."
   ]
  },
  {
   "cell_type": "code",
   "execution_count": 3,
   "metadata": {},
   "outputs": [],
   "source": [
    "train_path = '/data/Kaggle/CreditCard/CreditCard-train.csv'\n",
    "test_path = '/data/Kaggle/CreditCard/CreditCard-test.csv'\n",
    "\n",
    "train = h2oai.create_dataset_sync(train_path)\n",
    "test = h2oai.create_dataset_sync(test_path)"
   ]
  },
  {
   "cell_type": "markdown",
   "metadata": {},
   "source": [
    "#### Equivalent Steps in Driverless: Uploading Train & Test CSV Files\n",
    "![Equivalent Steps in Driverless: Upload Train & Test CSV Files](images/import_data_sets_creditcard.png)"
   ]
  },
  {
   "cell_type": "markdown",
   "metadata": {
    "collapsed": true
   },
   "source": [
    "### 3. Set Experiment Parameters\n",
    "\n",
    "We will now set the parameters of our experiment.  Some of the parameters include:\n",
    "\n",
    "* Target Column: The column we are trying to predict.\n",
    "* Dropped Columns: The columns we do not want to use as predictors such as ID columns, columns with data leakage, etc.\n",
    "* Weight Column: The column that indicates the per row observation weights. If `None`, each row will have an observation weight of 1.\n",
    "* Fold Column: The column that indicates the fold. If `None`, the folds will be determined by Driverless AI.\n",
    "* Is Time Series: Whether or not the experiment is a time-series use case.\n",
    "\n",
    "For information on the experiment settings, refer to the [Experiment Settings](http://docs.h2o.ai/driverless-ai/latest-stable/docs/userguide/running-experiment.html#experiment-settings).\n",
    "\n",
    "For this example, we will be predicting **`default payment next month`**.  The parameters that control the experiment process are: `accuracy`, `time`, and `interpretability`.  We can use the `get_experiment_preview_sync` function to get a sense of what will happen during the experiment.  \n",
    "\n",
    "We will start out by seeing what the experiment will look like with `accuracy`, `time`, and `interpretability` all set to 5."
   ]
  },
  {
   "cell_type": "code",
   "execution_count": 5,
   "metadata": {
    "scrolled": true
   },
   "outputs": [
    {
     "data": {
      "text/plain": [
       "['ACCURACY [5/10]:',\n",
       " '- Training data size: *23,999 rows, 25 cols*',\n",
       " '- Feature evolution: *[LightGBM, XGBoostGBM]*, *1/3 validation split*',\n",
       " '- Final pipeline: *Ensemble (4 models), 4-fold CV*',\n",
       " '',\n",
       " 'TIME [5/10]:',\n",
       " '- Feature evolution: *4 individuals*, up to *66 iterations*',\n",
       " '- Early stopping: After *10* iterations of no improvement',\n",
       " '',\n",
       " 'INTERPRETABILITY [5/10]:',\n",
       " '- Feature pre-pruning strategy: None',\n",
       " '- Monotonicity constraints: disabled',\n",
       " '- Feature engineering search space (where applicable): [CVCatNumEncode, CVTargetEncode, ClusterDist, ClusterId, ClusterTE, Dates, Frequent, Interactions, IsHoliday, NumCatTE, NumToCatTE, NumToCatWoE, Original, TextLinModel, Text, TruncSVDNum, WeightOfEvidence]',\n",
       " '',\n",
       " '[LightGBM, XGBoostGBM] models to train:',\n",
       " '- Model and feature tuning: *16*',\n",
       " '- Feature evolution: *104*',\n",
       " '- Final pipeline: *4*',\n",
       " '',\n",
       " 'Estimated runtime: *minutes*',\n",
       " 'Auto-click Finish if not done in: *1 day*']"
      ]
     },
     "execution_count": 5,
     "metadata": {},
     "output_type": "execute_result"
    }
   ],
   "source": [
    "target=\"default payment next month\"\n",
    "exp_preview = h2oai.get_experiment_preview_sync(dataset_key= train.key\n",
    "                                                , validset_key=''\n",
    "                                                , classification=True\n",
    "                                                , dropped_cols = []\n",
    "                                                , target_col=target\n",
    "                                                , is_time_series = False\n",
    "                                                , enable_gpus = True\n",
    "                                                , accuracy = 5, time = 5, interpretability = 5\n",
    "                                                , reproducible = True\n",
    "                                                , resumed_experiment_id = \"\" # This is a new experiment\n",
    "                                                , config_overrides = None)\n",
    "exp_preview"
   ]
  },
  {
   "cell_type": "markdown",
   "metadata": {},
   "source": [
    "With these settings, the Driverless AI experiment will train about 124 models: \n",
    "* 16 for model and feature tuning\n",
    "* 104 for feature evolution\n",
    "* 4 for the final pipeline\n",
    "\n",
    "When we start the experiment, we can either: \n",
    "\n",
    "* specify parameters\n",
    "* use Driverless AI to suggest parameters\n",
    "\n",
    "Driverless AI can suggest the parameters based on the dataset and target column.  Below we will use the **`get_experiment_tuning_suggestion`** to see what settings Driverless AI suggests."
   ]
  },
  {
   "cell_type": "code",
   "execution_count": 6,
   "metadata": {},
   "outputs": [],
   "source": [
    "# let Driverless suggest parameters for experiment\n",
    "params = h2oai.get_experiment_tuning_suggestion(dataset_key = train.key\n",
    "                                                , target_col = target\n",
    "                                                , is_classification = True\n",
    "                                                , is_time_series = False\n",
    "                                                , config_overrides = None)"
   ]
  },
  {
   "cell_type": "code",
   "execution_count": 7,
   "metadata": {},
   "outputs": [
    {
     "data": {
      "text/plain": [
       "{'dataset': {'key': '477016ec-f7fd-11e9-ab33-0242ac110002',\n",
       "  'display_name': ''},\n",
       " 'resumed_model': {'key': '', 'display_name': ''},\n",
       " 'target_col': 'default payment next month',\n",
       " 'weight_col': '',\n",
       " 'fold_col': '',\n",
       " 'orig_time_col': '',\n",
       " 'time_col': '',\n",
       " 'is_classification': True,\n",
       " 'cols_to_drop': [],\n",
       " 'validset': {'key': '', 'display_name': ''},\n",
       " 'testset': {'key': '', 'display_name': ''},\n",
       " 'enable_gpus': True,\n",
       " 'seed': False,\n",
       " 'accuracy': 5,\n",
       " 'time': 4,\n",
       " 'interpretability': 6,\n",
       " 'score_f_name': 'AUC',\n",
       " 'time_groups_columns': [],\n",
       " 'time_period_in_seconds': None,\n",
       " 'num_prediction_periods': None,\n",
       " 'num_gap_periods': None,\n",
       " 'is_timeseries': False,\n",
       " 'config_overrides': None}"
      ]
     },
     "execution_count": 7,
     "metadata": {},
     "output_type": "execute_result"
    }
   ],
   "source": [
    "params.dump()"
   ]
  },
  {
   "cell_type": "markdown",
   "metadata": {},
   "source": [
    "Driverless AI has found that the best parameters are to set **`accuracy = 5`**, **`time = 4`**, **`interpretability = 6`**. It has selected **`AUC`** as the scorer (this is the default scorer for binomial problems).  "
   ]
  },
  {
   "cell_type": "markdown",
   "metadata": {},
   "source": [
    "#### Equivalent Steps in Driverless: Set the Knobs, Configuration & Launch\n",
    "![Equivalent Steps in Driverless: Set the Knobs](images/set_parameters_creditcard.png)"
   ]
  },
  {
   "cell_type": "markdown",
   "metadata": {},
   "source": [
    "### 4. Launch Experiment: Feature Engineering + Final Model Training\n",
    "\n",
    "Launch the experiment using the parameters that Driverless AI suggested along with the testset, scorer, and seed that were added. We can launch the experiment with the suggested parameters or create our own."
   ]
  },
  {
   "cell_type": "code",
   "execution_count": 8,
   "metadata": {},
   "outputs": [],
   "source": [
    "experiment = h2oai.start_experiment_sync(dataset_key=train.key,\n",
    "                                         testset_key = test.key,\n",
    "                                         target_col=target,\n",
    "                                         is_classification=True,\n",
    "                                         accuracy=5,\n",
    "                                         time=4,\n",
    "                                         interpretability=6,\n",
    "                                         scorer=\"AUC\",\n",
    "                                         enable_gpus=True,\n",
    "                                         seed=1234,\n",
    "                                         cols_to_drop=['ID'])"
   ]
  },
  {
   "cell_type": "markdown",
   "metadata": {},
   "source": [
    "#### Equivalent Steps in Driverless: Launch Experiment\n",
    "\n",
    "![Equivalent Steps in Driverless: Launch Your Experiment](images/exp_running_creditcard.png)\n",
    "\n",
    "![Equivalent Steps in Driverless: Launch Your Experiment](images/experiment_list_running.png)"
   ]
  },
  {
   "cell_type": "markdown",
   "metadata": {},
   "source": [
    "### 5. Examine Experiment\n",
    "\n",
    "View the final model score for the validation and test datasets. When feature engineering is complete, an ensemble model can be built depending on the accuracy setting. The experiment object also contains the score on the validation and test data for this ensemble model.  In this case, the validation score is the score on the training cross-validation predictions."
   ]
  },
  {
   "cell_type": "code",
   "execution_count": 9,
   "metadata": {},
   "outputs": [
    {
     "name": "stdout",
     "output_type": "stream",
     "text": [
      "Final Model Score on Validation Data: 0.779\n",
      "Final Model Score on Test Data: 0.8\n"
     ]
    }
   ],
   "source": [
    "print(\"Final Model Score on Validation Data: \" + str(round(experiment.valid_score, 3)))\n",
    "print(\"Final Model Score on Test Data: \" + str(round(experiment.test_score, 3)))"
   ]
  },
  {
   "cell_type": "markdown",
   "metadata": {},
   "source": [
    "The experiment object also contains the scores calculated for each iteration on bootstrapped samples on the validation data.  In the iteration graph in the UI, we can see the mean performance for the best model (yellow dot) and +/- 1 standard deviation of the best model performance (yellow bar).\n",
    "\n",
    "This information is saved in the experiment object."
   ]
  },
  {
   "cell_type": "code",
   "execution_count": 11,
   "metadata": {},
   "outputs": [
    {
     "data": {
      "image/png": "[encoded data removed]",
      "text/plain": [
       "<Figure size 432x288 with 1 Axes>"
      ]
     },
     "metadata": {
      "needs_background": "light"
     },
     "output_type": "display_data"
    }
   ],
   "source": [
    "import matplotlib.pyplot as plt\n",
    "%matplotlib inline\n",
    "\n",
    "# Add scores from experiment iterations\n",
    "iteration_data = h2oai.list_model_iteration_data(experiment.key, 0, len(experiment.iteration_data))\n",
    "iterations = list(map(lambda iteration: iteration.iteration, iteration_data))\n",
    "scores_mean = list(map(lambda iteration: iteration.score_mean, iteration_data))\n",
    "scores_sd = list(map(lambda iteration: iteration.score_sd, iteration_data))\n",
    "\n",
    "# Add score from final ensemble\n",
    "iterations = iterations + [max(iterations) + 1]\n",
    "scores_mean = scores_mean + [experiment.valid_score]\n",
    "scores_sd = scores_sd + [experiment.valid_score_sd]\n",
    "\n",
    "plt.figure()\n",
    "plt.errorbar(iterations, scores_mean, yerr=scores_sd, color = \"y\", \n",
    "             ecolor='yellow', fmt = '--o', elinewidth = 4, alpha = 0.5)\n",
    "plt.xlabel(\"Iteration\")\n",
    "plt.ylabel(\"AUC\")\n",
    "plt.ylim([0.75, 0.82])\n",
    "plt.show();"
   ]
  },
  {
   "cell_type": "markdown",
   "metadata": {},
   "source": [
    "#### Equivalent Steps in Driverless: View Results\n",
    "![Equivalent Steps in Driverless: View Results](images/experiment_complete_creditcard.png)"
   ]
  },
  {
   "cell_type": "markdown",
   "metadata": {},
   "source": [
    "### 6. Download Results\n",
    "\n",
    "Once an experiment is complete, we can see that the UI presents us options of downloading the: \n",
    "\n",
    "* predictions \n",
    "    * on the (holdout) train data\n",
    "    * on the test data\n",
    "* experiment summary - summary of the experiment including feature importance\n",
    "\n",
    "We will show an example of downloading the test predictions below.  Note that equivalent commands can also be run for downloading the train (holdout) predictions. "
   ]
  },
  {
   "cell_type": "code",
   "execution_count": 12,
   "metadata": {},
   "outputs": [
    {
     "data": {
      "text/plain": [
       "'./test_preds.csv'"
      ]
     },
     "execution_count": 12,
     "metadata": {},
     "output_type": "execute_result"
    }
   ],
   "source": [
    "h2oai.download(src_path=experiment.test_predictions_path, dest_dir=\".\")"
   ]
  },
  {
   "cell_type": "code",
   "execution_count": 13,
   "metadata": {},
   "outputs": [
    {
     "data": {
      "text/html": [
       "<div>\n",
       "<style scoped>\n",
       "    .dataframe tbody tr th:only-of-type {\n",
       "        vertical-align: middle;\n",
       "    }\n",
       "\n",
       "    .dataframe tbody tr th {\n",
       "        vertical-align: top;\n",
       "    }\n",
       "\n",
       "    .dataframe thead th {\n",
       "        text-align: right;\n",
       "    }\n",
       "</style>\n",
       "<table border=\"1\" class=\"dataframe\">\n",
       "  <thead>\n",
       "    <tr style=\"text-align: right;\">\n",
       "      <th></th>\n",
       "      <th>default payment next month.0</th>\n",
       "      <th>default payment next month.1</th>\n",
       "    </tr>\n",
       "  </thead>\n",
       "  <tbody>\n",
       "    <tr>\n",
       "      <th>0</th>\n",
       "      <td>0.457594</td>\n",
       "      <td>0.542405</td>\n",
       "    </tr>\n",
       "    <tr>\n",
       "      <th>1</th>\n",
       "      <td>0.856039</td>\n",
       "      <td>0.143961</td>\n",
       "    </tr>\n",
       "    <tr>\n",
       "      <th>2</th>\n",
       "      <td>0.935652</td>\n",
       "      <td>0.064348</td>\n",
       "    </tr>\n",
       "    <tr>\n",
       "      <th>3</th>\n",
       "      <td>0.567411</td>\n",
       "      <td>0.432589</td>\n",
       "    </tr>\n",
       "    <tr>\n",
       "      <th>4</th>\n",
       "      <td>0.862044</td>\n",
       "      <td>0.137956</td>\n",
       "    </tr>\n",
       "  </tbody>\n",
       "</table>\n",
       "</div>"
      ],
      "text/plain": [
       "   default payment next month.0  default payment next month.1\n",
       "0                      0.457594                      0.542405\n",
       "1                      0.856039                      0.143961\n",
       "2                      0.935652                      0.064348\n",
       "3                      0.567411                      0.432589\n",
       "4                      0.862044                      0.137956"
      ]
     },
     "execution_count": 13,
     "metadata": {},
     "output_type": "execute_result"
    }
   ],
   "source": [
    "test_preds = pd.read_csv(\"./test_preds.csv\")\n",
    "test_preds.head()"
   ]
  },
  {
   "cell_type": "markdown",
   "metadata": {},
   "source": [
    "We can also download and examine the summary of the experiment and feature importance for the final model."
   ]
  },
  {
   "cell_type": "code",
   "execution_count": 14,
   "metadata": {},
   "outputs": [
    {
     "data": {
      "text/plain": [
       "0"
      ]
     },
     "execution_count": 14,
     "metadata": {},
     "output_type": "execute_result"
    }
   ],
   "source": [
    "# Download Summary\n",
    "import subprocess\n",
    "summary_path = h2oai.download(src_path=experiment.summary_path, dest_dir=\".\")\n",
    "dir_path = \"./h2oai_experiment_summary_\" + experiment.key\n",
    "subprocess.call(['unzip', '-o', summary_path, '-d', dir_path], shell=False)"
   ]
  },
  {
   "cell_type": "markdown",
   "metadata": {},
   "source": [
    "The table below shows the feature name, its relative importance, and a description.  Some features will be engineered by Driverless AI and some can be the original feature."
   ]
  },
  {
   "cell_type": "code",
   "execution_count": 15,
   "metadata": {},
   "outputs": [
    {
     "name": "stderr",
     "output_type": "stream",
     "text": [
      "/usr/local/lib/python3.6/site-packages/ipykernel_launcher.py:2: FutureWarning: read_table is deprecated, use read_csv instead.\n",
      "  \n"
     ]
    },
    {
     "data": {
      "text/html": [
       "<div>\n",
       "<style scoped>\n",
       "    .dataframe tbody tr th:only-of-type {\n",
       "        vertical-align: middle;\n",
       "    }\n",
       "\n",
       "    .dataframe tbody tr th {\n",
       "        vertical-align: top;\n",
       "    }\n",
       "\n",
       "    .dataframe thead th {\n",
       "        text-align: right;\n",
       "    }\n",
       "</style>\n",
       "<table border=\"1\" class=\"dataframe\">\n",
       "  <thead>\n",
       "    <tr style=\"text-align: right;\">\n",
       "      <th></th>\n",
       "      <th>Relative Importance</th>\n",
       "      <th>Standard Deviation of Relative Importance</th>\n",
       "      <th>Feature</th>\n",
       "      <th>Description</th>\n",
       "    </tr>\n",
       "  </thead>\n",
       "  <tbody>\n",
       "    <tr>\n",
       "      <th>0</th>\n",
       "      <td>1.00000</td>\n",
       "      <td>0.000000</td>\n",
       "      <td>10_PAY_0</td>\n",
       "      <td>PAY_0 (Orig)</td>\n",
       "    </tr>\n",
       "    <tr>\n",
       "      <th>1</th>\n",
       "      <td>0.50436</td>\n",
       "      <td>0.026649</td>\n",
       "      <td>11_PAY_2</td>\n",
       "      <td>PAY_2 (Orig)</td>\n",
       "    </tr>\n",
       "    <tr>\n",
       "      <th>2</th>\n",
       "      <td>0.18162</td>\n",
       "      <td>0.038043</td>\n",
       "      <td>1_BILL_AMT1</td>\n",
       "      <td>BILL_AMT1 (Orig)</td>\n",
       "    </tr>\n",
       "    <tr>\n",
       "      <th>3</th>\n",
       "      <td>0.17397</td>\n",
       "      <td>0.029103</td>\n",
       "      <td>8_LIMIT_BAL</td>\n",
       "      <td>LIMIT_BAL (Orig)</td>\n",
       "    </tr>\n",
       "    <tr>\n",
       "      <th>4</th>\n",
       "      <td>0.15520</td>\n",
       "      <td>0.036960</td>\n",
       "      <td>16_PAY_AMT1</td>\n",
       "      <td>PAY_AMT1 (Orig)</td>\n",
       "    </tr>\n",
       "    <tr>\n",
       "      <th>5</th>\n",
       "      <td>0.14958</td>\n",
       "      <td>0.040999</td>\n",
       "      <td>17_PAY_AMT2</td>\n",
       "      <td>PAY_AMT2 (Orig)</td>\n",
       "    </tr>\n",
       "    <tr>\n",
       "      <th>6</th>\n",
       "      <td>0.12152</td>\n",
       "      <td>0.030999</td>\n",
       "      <td>18_PAY_AMT3</td>\n",
       "      <td>PAY_AMT3 (Orig)</td>\n",
       "    </tr>\n",
       "    <tr>\n",
       "      <th>7</th>\n",
       "      <td>0.11196</td>\n",
       "      <td>0.036942</td>\n",
       "      <td>21_PAY_AMT6</td>\n",
       "      <td>PAY_AMT6 (Orig)</td>\n",
       "    </tr>\n",
       "    <tr>\n",
       "      <th>8</th>\n",
       "      <td>0.10965</td>\n",
       "      <td>0.006595</td>\n",
       "      <td>13_PAY_4</td>\n",
       "      <td>PAY_4 (Orig)</td>\n",
       "    </tr>\n",
       "    <tr>\n",
       "      <th>9</th>\n",
       "      <td>0.10133</td>\n",
       "      <td>0.016384</td>\n",
       "      <td>2_BILL_AMT2</td>\n",
       "      <td>BILL_AMT2 (Orig)</td>\n",
       "    </tr>\n",
       "  </tbody>\n",
       "</table>\n",
       "</div>"
      ],
      "text/plain": [
       "   Relative Importance  Standard Deviation of Relative Importance  \\\n",
       "0              1.00000                                   0.000000   \n",
       "1              0.50436                                   0.026649   \n",
       "2              0.18162                                   0.038043   \n",
       "3              0.17397                                   0.029103   \n",
       "4              0.15520                                   0.036960   \n",
       "5              0.14958                                   0.040999   \n",
       "6              0.12152                                   0.030999   \n",
       "7              0.11196                                   0.036942   \n",
       "8              0.10965                                   0.006595   \n",
       "9              0.10133                                   0.016384   \n",
       "\n",
       "       Feature       Description  \n",
       "0     10_PAY_0      PAY_0 (Orig)  \n",
       "1     11_PAY_2      PAY_2 (Orig)  \n",
       "2  1_BILL_AMT1  BILL_AMT1 (Orig)  \n",
       "3  8_LIMIT_BAL  LIMIT_BAL (Orig)  \n",
       "4  16_PAY_AMT1   PAY_AMT1 (Orig)  \n",
       "5  17_PAY_AMT2   PAY_AMT2 (Orig)  \n",
       "6  18_PAY_AMT3   PAY_AMT3 (Orig)  \n",
       "7  21_PAY_AMT6   PAY_AMT6 (Orig)  \n",
       "8     13_PAY_4      PAY_4 (Orig)  \n",
       "9  2_BILL_AMT2  BILL_AMT2 (Orig)  "
      ]
     },
     "execution_count": 15,
     "metadata": {},
     "output_type": "execute_result"
    }
   ],
   "source": [
    "# View Features\n",
    "features = pd.read_table(dir_path + \"/ensemble_features.txt\", sep=',', skipinitialspace=True)\n",
    "features.head(n = 10)"
   ]
  },
  {
   "cell_type": "markdown",
   "metadata": {},
   "source": [
    "## Build an Experiment in Web UI and Access Through Python\n",
    "\n",
    "It is also possible to use the Python API to examine an experiment that was started through the Web UI using the experiment key.\n",
    "\n",
    "![Experiments List](images/experiment_list_complete.png)\n",
    "\n",
    "### 1. Get pointer to experiment\n",
    "\n",
    "You can get a pointer to the experiment by referencing the experiment key in the Web UI."
   ]
  },
  {
   "cell_type": "code",
   "execution_count": 22,
   "metadata": {},
   "outputs": [
    {
     "data": {
      "text/plain": [
       "[['9cf5ed1c-f7fd-11e9-ab33-0242ac110002', 'fanewato'],\n",
       " ['19be3f76-f1cc-11e9-b931-0242ac110002', 'Dana Demo'],\n",
       " ['15b54d30-f059-11e9-becd-0242ac110002', 'Iris Clusters No FE'],\n",
       " ['d25e64c4-f056-11e9-becd-0242ac110002', 'Iris Clusters'],\n",
       " ['e7cdf704-f045-11e9-83cc-0242ac110002', '2.Risk Scoring'],\n",
       " ['91220348-f043-11e9-83cc-0242ac110002', '1.Risk Scoring'],\n",
       " ['ccfc7756-f041-11e9-83cc-0242ac110002', 'Risk Scoring'],\n",
       " ['c6489292-f03b-11e9-83cc-0242ac110002', 'Default, Leakage, Imbalanced'],\n",
       " ['2e3675fe-f037-11e9-83cc-0242ac110002',\n",
       "  'Default Settings, High Leakage Drop'],\n",
       " ['f3043b32-ef9c-11e9-9858-0242ac110002', 'Advanced Settings'],\n",
       " ['1c054e8a-ef99-11e9-9858-0242ac110002', 'Basic with Drops'],\n",
       " ['3d44e426-ef98-11e9-9858-0242ac110002', 'Basic'],\n",
       " ['fda5a52e-e93b-11e9-9a1f-0242ac110002', '6th Defaults'],\n",
       " ['67e8a150-e939-11e9-9a1f-0242ac110002', '4th Imbalanced'],\n",
       " ['93e03094-e933-11e9-9a1f-0242ac110002', '3nd Defaults'],\n",
       " ['3f327f92-e7e0-11e9-ab9c-0242ac110002', '2nd Imbalanced'],\n",
       " ['e5f1708c-e7da-11e9-ab9c-0242ac110002', '1st Defaults']]"
      ]
     },
     "execution_count": 22,
     "metadata": {},
     "output_type": "execute_result"
    }
   ],
   "source": [
    "# Get list of experiments\n",
    "experiment_list = list(map(lambda x: [x.key, x.description] , h2oai.list_models(offset=0, limit=100).models))\n",
    "experiment_list"
   ]
  },
  {
   "cell_type": "code",
   "execution_count": 24,
   "metadata": {},
   "outputs": [],
   "source": [
    "# Get pointer to experiment\n",
    "experiment = h2oai.get_model_job(experiment_list[0][0]).entity"
   ]
  },
  {
   "cell_type": "markdown",
   "metadata": {},
   "source": [
    "## Score on New Data\n",
    "\n",
    "You can use the Python API to score on new data. This is equivalent to the **SCORE ON ANOTHER DATASET** button in the Web UI. The example below scores on the test data and then downloads the predictions.\n",
    "\n",
    "Pass in any dataset that has the same columns as the original training set. If you passed a test set during the H2OAI model building step, the predictions already exist. Its path can be found with **`experiment.test_predictions_path`**.\n",
    "\n",
    "### 1. Score Using the H2OAI Model\n",
    "\n",
    "The following shows the predicted probability of default for each record in the test.  "
   ]
  },
  {
   "cell_type": "code",
   "execution_count": 26,
   "metadata": {},
   "outputs": [
    {
     "data": {
      "text/html": [
       "<div>\n",
       "<style scoped>\n",
       "    .dataframe tbody tr th:only-of-type {\n",
       "        vertical-align: middle;\n",
       "    }\n",
       "\n",
       "    .dataframe tbody tr th {\n",
       "        vertical-align: top;\n",
       "    }\n",
       "\n",
       "    .dataframe thead th {\n",
       "        text-align: right;\n",
       "    }\n",
       "</style>\n",
       "<table border=\"1\" class=\"dataframe\">\n",
       "  <thead>\n",
       "    <tr style=\"text-align: right;\">\n",
       "      <th></th>\n",
       "      <th>default payment next month.0</th>\n",
       "      <th>default payment next month.1</th>\n",
       "    </tr>\n",
       "  </thead>\n",
       "  <tbody>\n",
       "    <tr>\n",
       "      <th>0</th>\n",
       "      <td>0.457594</td>\n",
       "      <td>0.542405</td>\n",
       "    </tr>\n",
       "    <tr>\n",
       "      <th>1</th>\n",
       "      <td>0.856039</td>\n",
       "      <td>0.143961</td>\n",
       "    </tr>\n",
       "    <tr>\n",
       "      <th>2</th>\n",
       "      <td>0.935652</td>\n",
       "      <td>0.064348</td>\n",
       "    </tr>\n",
       "    <tr>\n",
       "      <th>3</th>\n",
       "      <td>0.567411</td>\n",
       "      <td>0.432589</td>\n",
       "    </tr>\n",
       "    <tr>\n",
       "      <th>4</th>\n",
       "      <td>0.862044</td>\n",
       "      <td>0.137956</td>\n",
       "    </tr>\n",
       "  </tbody>\n",
       "</table>\n",
       "</div>"
      ],
      "text/plain": [
       "   default payment next month.0  default payment next month.1\n",
       "0                      0.457594                      0.542405\n",
       "1                      0.856039                      0.143961\n",
       "2                      0.935652                      0.064348\n",
       "3                      0.567411                      0.432589\n",
       "4                      0.862044                      0.137956"
      ]
     },
     "execution_count": 26,
     "metadata": {},
     "output_type": "execute_result"
    }
   ],
   "source": [
    "prediction = h2oai.make_prediction_sync(experiment.key, test.key, output_margin = False, pred_contribs = False)\n",
    "pred_path = h2oai.download(prediction.predictions_csv_path, '.')\n",
    "pred_table = pd.read_csv(pred_path)\n",
    "pred_table.head()"
   ]
  },
  {
   "cell_type": "markdown",
   "metadata": {},
   "source": [
    "We can also get the contribution each feature had to the final prediction by setting `pred_contribs = True`.  This will give us an idea of how each feature effects the predictions. "
   ]
  },
  {
   "cell_type": "code",
   "execution_count": 32,
   "metadata": {
    "scrolled": true
   },
   "outputs": [
    {
     "data": {
      "text/html": [
       "<div>\n",
       "<style scoped>\n",
       "    .dataframe tbody tr th:only-of-type {\n",
       "        vertical-align: middle;\n",
       "    }\n",
       "\n",
       "    .dataframe tbody tr th {\n",
       "        vertical-align: top;\n",
       "    }\n",
       "\n",
       "    .dataframe thead th {\n",
       "        text-align: right;\n",
       "    }\n",
       "</style>\n",
       "<table border=\"1\" class=\"dataframe\">\n",
       "  <thead>\n",
       "    <tr style=\"text-align: right;\">\n",
       "      <th></th>\n",
       "      <th>contrib_0_AGE</th>\n",
       "      <th>contrib_1_BILL_AMT1</th>\n",
       "      <th>contrib_10_PAY_0</th>\n",
       "      <th>contrib_11_PAY_2</th>\n",
       "      <th>contrib_12_PAY_3</th>\n",
       "      <th>contrib_13_PAY_4</th>\n",
       "      <th>contrib_14_PAY_5</th>\n",
       "      <th>contrib_15_PAY_6</th>\n",
       "      <th>contrib_16_PAY_AMT1</th>\n",
       "      <th>contrib_17_PAY_AMT2</th>\n",
       "      <th>...</th>\n",
       "      <th>contrib_20_PAY_AMT5</th>\n",
       "      <th>contrib_21_PAY_AMT6</th>\n",
       "      <th>contrib_3_BILL_AMT3</th>\n",
       "      <th>contrib_4_BILL_AMT4</th>\n",
       "      <th>contrib_5_BILL_AMT5</th>\n",
       "      <th>contrib_6_BILL_AMT6</th>\n",
       "      <th>contrib_7_EDUCATION</th>\n",
       "      <th>contrib_8_LIMIT_BAL</th>\n",
       "      <th>contrib_9_MARRIAGE</th>\n",
       "      <th>contrib_bias</th>\n",
       "    </tr>\n",
       "  </thead>\n",
       "  <tbody>\n",
       "    <tr>\n",
       "      <th>0</th>\n",
       "      <td>-0.012775</td>\n",
       "      <td>-0.094490</td>\n",
       "      <td>1.309998</td>\n",
       "      <td>0.467255</td>\n",
       "      <td>-0.022100</td>\n",
       "      <td>-0.010882</td>\n",
       "      <td>-0.047442</td>\n",
       "      <td>-0.060334</td>\n",
       "      <td>0.088169</td>\n",
       "      <td>-0.041057</td>\n",
       "      <td>...</td>\n",
       "      <td>0.021403</td>\n",
       "      <td>0.043190</td>\n",
       "      <td>-0.003667</td>\n",
       "      <td>-0.017139</td>\n",
       "      <td>-0.029390</td>\n",
       "      <td>-0.020009</td>\n",
       "      <td>0.010756</td>\n",
       "      <td>0.126298</td>\n",
       "      <td>-0.041866</td>\n",
       "      <td>-1.483208</td>\n",
       "    </tr>\n",
       "    <tr>\n",
       "      <th>1</th>\n",
       "      <td>-0.011581</td>\n",
       "      <td>-0.107709</td>\n",
       "      <td>-0.248054</td>\n",
       "      <td>-0.080118</td>\n",
       "      <td>-0.029831</td>\n",
       "      <td>-0.022765</td>\n",
       "      <td>-0.022960</td>\n",
       "      <td>-0.014259</td>\n",
       "      <td>0.047491</td>\n",
       "      <td>-0.033780</td>\n",
       "      <td>...</td>\n",
       "      <td>-0.007768</td>\n",
       "      <td>0.002456</td>\n",
       "      <td>0.019842</td>\n",
       "      <td>0.015833</td>\n",
       "      <td>-0.005942</td>\n",
       "      <td>-0.003173</td>\n",
       "      <td>0.017040</td>\n",
       "      <td>0.302977</td>\n",
       "      <td>-0.040758</td>\n",
       "      <td>-1.483208</td>\n",
       "    </tr>\n",
       "    <tr>\n",
       "      <th>2</th>\n",
       "      <td>-0.009778</td>\n",
       "      <td>-0.124057</td>\n",
       "      <td>-0.293209</td>\n",
       "      <td>-0.087021</td>\n",
       "      <td>-0.036522</td>\n",
       "      <td>-0.019851</td>\n",
       "      <td>-0.017069</td>\n",
       "      <td>-0.018801</td>\n",
       "      <td>0.029029</td>\n",
       "      <td>-0.158883</td>\n",
       "      <td>...</td>\n",
       "      <td>0.039967</td>\n",
       "      <td>-0.011038</td>\n",
       "      <td>-0.012539</td>\n",
       "      <td>-0.005830</td>\n",
       "      <td>-0.007061</td>\n",
       "      <td>-0.017876</td>\n",
       "      <td>0.013404</td>\n",
       "      <td>-0.290822</td>\n",
       "      <td>-0.035311</td>\n",
       "      <td>-1.483208</td>\n",
       "    </tr>\n",
       "    <tr>\n",
       "      <th>3</th>\n",
       "      <td>-0.020339</td>\n",
       "      <td>-0.072089</td>\n",
       "      <td>0.852040</td>\n",
       "      <td>0.306654</td>\n",
       "      <td>0.140299</td>\n",
       "      <td>0.144942</td>\n",
       "      <td>0.191744</td>\n",
       "      <td>0.101268</td>\n",
       "      <td>0.037716</td>\n",
       "      <td>0.065926</td>\n",
       "      <td>...</td>\n",
       "      <td>0.026972</td>\n",
       "      <td>0.026766</td>\n",
       "      <td>0.007920</td>\n",
       "      <td>-0.009138</td>\n",
       "      <td>-0.047773</td>\n",
       "      <td>-0.022216</td>\n",
       "      <td>-0.630322</td>\n",
       "      <td>0.097347</td>\n",
       "      <td>-0.049528</td>\n",
       "      <td>-1.483208</td>\n",
       "    </tr>\n",
       "    <tr>\n",
       "      <th>4</th>\n",
       "      <td>-0.024641</td>\n",
       "      <td>-0.257774</td>\n",
       "      <td>-0.194036</td>\n",
       "      <td>-0.083868</td>\n",
       "      <td>-0.088559</td>\n",
       "      <td>-0.035959</td>\n",
       "      <td>-0.017062</td>\n",
       "      <td>-0.005925</td>\n",
       "      <td>0.135321</td>\n",
       "      <td>0.101112</td>\n",
       "      <td>...</td>\n",
       "      <td>0.035166</td>\n",
       "      <td>0.028153</td>\n",
       "      <td>-0.061120</td>\n",
       "      <td>-0.047574</td>\n",
       "      <td>-0.000717</td>\n",
       "      <td>-0.029711</td>\n",
       "      <td>0.006339</td>\n",
       "      <td>0.128332</td>\n",
       "      <td>-0.030894</td>\n",
       "      <td>-1.483208</td>\n",
       "    </tr>\n",
       "  </tbody>\n",
       "</table>\n",
       "<p>5 rows × 23 columns</p>\n",
       "</div>"
      ],
      "text/plain": [
       "   contrib_0_AGE  contrib_1_BILL_AMT1  contrib_10_PAY_0  contrib_11_PAY_2  \\\n",
       "0      -0.012775            -0.094490          1.309998          0.467255   \n",
       "1      -0.011581            -0.107709         -0.248054         -0.080118   \n",
       "2      -0.009778            -0.124057         -0.293209         -0.087021   \n",
       "3      -0.020339            -0.072089          0.852040          0.306654   \n",
       "4      -0.024641            -0.257774         -0.194036         -0.083868   \n",
       "\n",
       "   contrib_12_PAY_3  contrib_13_PAY_4  contrib_14_PAY_5  contrib_15_PAY_6  \\\n",
       "0         -0.022100         -0.010882         -0.047442         -0.060334   \n",
       "1         -0.029831         -0.022765         -0.022960         -0.014259   \n",
       "2         -0.036522         -0.019851         -0.017069         -0.018801   \n",
       "3          0.140299          0.144942          0.191744          0.101268   \n",
       "4         -0.088559         -0.035959         -0.017062         -0.005925   \n",
       "\n",
       "   contrib_16_PAY_AMT1  contrib_17_PAY_AMT2  ...  contrib_20_PAY_AMT5  \\\n",
       "0             0.088169            -0.041057  ...             0.021403   \n",
       "1             0.047491            -0.033780  ...            -0.007768   \n",
       "2             0.029029            -0.158883  ...             0.039967   \n",
       "3             0.037716             0.065926  ...             0.026972   \n",
       "4             0.135321             0.101112  ...             0.035166   \n",
       "\n",
       "   contrib_21_PAY_AMT6  contrib_3_BILL_AMT3  contrib_4_BILL_AMT4  \\\n",
       "0             0.043190            -0.003667            -0.017139   \n",
       "1             0.002456             0.019842             0.015833   \n",
       "2            -0.011038            -0.012539            -0.005830   \n",
       "3             0.026766             0.007920            -0.009138   \n",
       "4             0.028153            -0.061120            -0.047574   \n",
       "\n",
       "   contrib_5_BILL_AMT5  contrib_6_BILL_AMT6  contrib_7_EDUCATION  \\\n",
       "0            -0.029390            -0.020009             0.010756   \n",
       "1            -0.005942            -0.003173             0.017040   \n",
       "2            -0.007061            -0.017876             0.013404   \n",
       "3            -0.047773            -0.022216            -0.630322   \n",
       "4            -0.000717            -0.029711             0.006339   \n",
       "\n",
       "   contrib_8_LIMIT_BAL  contrib_9_MARRIAGE  contrib_bias  \n",
       "0             0.126298           -0.041866     -1.483208  \n",
       "1             0.302977           -0.040758     -1.483208  \n",
       "2            -0.290822           -0.035311     -1.483208  \n",
       "3             0.097347           -0.049528     -1.483208  \n",
       "4             0.128332           -0.030894     -1.483208  \n",
       "\n",
       "[5 rows x 23 columns]"
      ]
     },
     "execution_count": 32,
     "metadata": {},
     "output_type": "execute_result"
    }
   ],
   "source": [
    "prediction_contributions = h2oai.make_prediction_sync(experiment.key, test.key, \n",
    "                                                      output_margin = False, pred_contribs = True)\n",
    "pred_contributions_path = h2oai.download(prediction_contributions.predictions_csv_path, '.')\n",
    "pred_contributions_table = pd.read_csv(pred_contributions_path)\n",
    "pred_contributions_table.head()"
   ]
  },
  {
   "cell_type": "markdown",
   "metadata": {},
   "source": [
    "We will examine the contributions for our first record more closely."
   ]
  },
  {
   "cell_type": "code",
   "execution_count": 33,
   "metadata": {},
   "outputs": [
    {
     "data": {
      "text/html": [
       "<div>\n",
       "<style scoped>\n",
       "    .dataframe tbody tr th:only-of-type {\n",
       "        vertical-align: middle;\n",
       "    }\n",
       "\n",
       "    .dataframe tbody tr th {\n",
       "        vertical-align: top;\n",
       "    }\n",
       "\n",
       "    .dataframe thead th {\n",
       "        text-align: right;\n",
       "    }\n",
       "</style>\n",
       "<table border=\"1\" class=\"dataframe\">\n",
       "  <thead>\n",
       "    <tr style=\"text-align: right;\">\n",
       "      <th></th>\n",
       "      <th>contribution</th>\n",
       "    </tr>\n",
       "  </thead>\n",
       "  <tbody>\n",
       "    <tr>\n",
       "      <th>contrib_bias</th>\n",
       "      <td>-1.483208</td>\n",
       "    </tr>\n",
       "    <tr>\n",
       "      <th>contrib_10_PAY_0</th>\n",
       "      <td>1.309998</td>\n",
       "    </tr>\n",
       "    <tr>\n",
       "      <th>contrib_11_PAY_2</th>\n",
       "      <td>0.467255</td>\n",
       "    </tr>\n",
       "    <tr>\n",
       "      <th>contrib_8_LIMIT_BAL</th>\n",
       "      <td>0.126298</td>\n",
       "    </tr>\n",
       "    <tr>\n",
       "      <th>contrib_1_BILL_AMT1</th>\n",
       "      <td>-0.094490</td>\n",
       "    </tr>\n",
       "  </tbody>\n",
       "</table>\n",
       "</div>"
      ],
      "text/plain": [
       "                     contribution\n",
       "contrib_bias            -1.483208\n",
       "contrib_10_PAY_0         1.309998\n",
       "contrib_11_PAY_2         0.467255\n",
       "contrib_8_LIMIT_BAL      0.126298\n",
       "contrib_1_BILL_AMT1     -0.094490"
      ]
     },
     "execution_count": 33,
     "metadata": {},
     "output_type": "execute_result"
    }
   ],
   "source": [
    "contrib = pd.DataFrame(pred_contributions_table.iloc[0][1:])\n",
    "contrib.columns = [\"contribution\"]\n",
    "contrib[\"abs_contribution\"] = contrib.contribution.abs()\n",
    "contrib.sort_values(by=\"abs_contribution\", ascending=False)[[\"contribution\"]].head()"
   ]
  },
  {
   "cell_type": "markdown",
   "metadata": {},
   "source": [
    "This customer's `PAY_0` had the greatest impact on their prediction.  Since the contribution is positive, we know that it increases the probability that they will default."
   ]
  },
  {
   "cell_type": "markdown",
   "metadata": {},
   "source": [
    "## Model Diagnostics on New Data\n",
    "\n",
    "You can use the Python API to also perform model diagnostics on new data. This is equivalent to the **Model Diagnostics** tab in the Web UI. \n",
    "\n",
    "![Model Diagnostics Setup](images/model_diagnostics_setup.png)\n",
    "\n",
    "\n",
    "### 1. Run model diagnostincs on new data with H2OAI model\n",
    "\n",
    "The example below performs model diagnostics on the test dataset but any data with the same columns can be selected. "
   ]
  },
  {
   "cell_type": "code",
   "execution_count": 34,
   "metadata": {},
   "outputs": [],
   "source": [
    "test_diagnostics = h2oai.make_model_diagnostic_sync(experiment.key, test.key)"
   ]
  },
  {
   "cell_type": "code",
   "execution_count": 40,
   "metadata": {},
   "outputs": [
    {
     "data": {
      "text/plain": [
       "[{'scorer': 'ACCURACY', 'score': '0.83'},\n",
       " {'scorer': 'AUC', 'score': '0.8'},\n",
       " {'scorer': 'AUCPR', 'score': '0.58'},\n",
       " {'scorer': 'F05', 'score': '0.6'},\n",
       " {'scorer': 'F1', 'score': '0.56'},\n",
       " {'scorer': 'F2', 'score': '0.65'},\n",
       " {'scorer': 'GINI', 'score': '0.6'},\n",
       " {'scorer': 'LOGLOSS', 'score': '0.41'},\n",
       " {'scorer': 'MACROAUC', 'score': '0.8'},\n",
       " {'scorer': 'MCC', 'score': '0.45'}]"
      ]
     },
     "execution_count": 40,
     "metadata": {},
     "output_type": "execute_result"
    }
   ],
   "source": [
    "[{'scorer': x.score_f_name, 'score': str(round(x.score, 2))} for x in test_diagnostics.scores]"
   ]
  },
  {
   "cell_type": "markdown",
   "metadata": {},
   "source": [
    "Here is the same model diagnostics displayed in the UI: \n",
    "\n",
    "![Model Diagnostics Setup](images/model_diagnostics_complete.png)\n"
   ]
  },
  {
   "cell_type": "markdown",
   "metadata": {
    "collapsed": true
   },
   "source": [
    "## Run Model Interpretation\n",
    "\n",
    "Once we have completed an experiment, we can interpret our H2OAI model.  Model Interpretability is used to provide model transparency and explanations.  More information on Model Interpretability can be found here: http://docs.h2o.ai/driverless-ai/latest-stable/docs/userguide/interpreting.html.\n",
    "\n",
    "\n",
    "### 1. Run Model Interpretation on the Raw Data\n",
    "\n",
    "We can run the model interpretation in the Python client as shown below.  By setting the parameter, `use_raw_features` to True, we are interpreting the model using only the raw features in the data.  This will not use the engineered features we saw in our final model's features to explain the data.  "
   ]
  },
  {
   "cell_type": "code",
   "execution_count": 41,
   "metadata": {},
   "outputs": [],
   "source": [
    "mli_experiment = h2oai.run_interpretation_sync(dai_model_key = experiment.key,\n",
    "                                               dataset_key = train.key,\n",
    "                                               target_col = target,\n",
    "                                               use_raw_feature = True)"
   ]
  },
  {
   "cell_type": "markdown",
   "metadata": {},
   "source": [
    "This is equivalent to clicking **Interpet this Model on Original Features** in the UI once the experiment has completed.\n",
    "\n",
    "![Equivalent Steps in Driverless: View Results](images/experiment_complete_creditcard.png)"
   ]
  },
  {
   "cell_type": "markdown",
   "metadata": {},
   "source": [
    "Once our interpretation is finished, we can navigate to the MLI tab in the UI to see our interpreted model. \n",
    "\n",
    "![Equivalent Steps in Driverless: MLI List](images/mli_list.png)\n",
    "\n",
    "We can also see the list of interpretations using the Python Client:"
   ]
  },
  {
   "cell_type": "code",
   "execution_count": 44,
   "metadata": {
    "scrolled": true
   },
   "outputs": [
    {
     "data": {
      "text/plain": [
       "[['2b4fbebe-f801-11e9-ab33-0242ac110002', 'kicobebo'],\n",
       " ['d4576dc6-f05a-11e9-becd-0242ac110002', 'kogogopi'],\n",
       " ['fbc117e2-f058-11e9-becd-0242ac110002', 'duwecedu'],\n",
       " ['c08cc8a8-efa2-11e9-9858-0242ac110002', 'funokile'],\n",
       " ['e3f63fc0-ef9a-11e9-9858-0242ac110002', 'vanodose'],\n",
       " ['238b3278-ef99-11e9-9858-0242ac110002', 'bogitigo']]"
      ]
     },
     "execution_count": 44,
     "metadata": {},
     "output_type": "execute_result"
    }
   ],
   "source": [
    "# Get list of interpretations\n",
    "mli_list = list(map(lambda x: [x.key, x.description], h2oai.list_interpretations(offset=0, limit=100)))\n",
    "mli_list"
   ]
  },
  {
   "cell_type": "markdown",
   "metadata": {},
   "source": [
    "## Build Scoring Pipelines\n",
    "\n",
    "In our last section, we will build the scoring pipelines from our experiment.  There are two scoring pipeline options: \n",
    "\n",
    "* Python Scoring Pipeline: requires Python runtime\n",
    "* MOJO Scoring Pipeline: requires Java runtime\n",
    "\n",
    "Documentation on the scoring pipelines is provided here: http://docs.h2o.ai/driverless-ai/latest-stable/docs/userguide/python-mojo-pipelines.html.\n",
    "\n",
    "![Equivalent Steps in Driverless: View Results](images/experiment_complete_creditcard.png)\n",
    "\n",
    "The experiment screen shows two scoring pipeline buttons: **Download Python Scoring Pipeline** or **Build MOJO Scoring Pipeline**.  Driverless AI determines if any scoring pipeline should be automatically built based on the config.toml file.  In this example, we have run Driverless AI with the settings: \n",
    "\n",
    "```\n",
    "# Whether to create the Python scoring pipeline at the end of each experiment\n",
    "make_python_scoring_pipeline = true\n",
    "\n",
    "# Whether to create the MOJO scoring pipeline at the end of each experiment\n",
    "# Note: Not all transformers or main models are available for MOJO (e.g. no gblinear main model)\n",
    "make_mojo_scoring_pipeline = false\n",
    "```\n",
    "\n",
    "Therefore, only the Python Scoring Pipeline will be built by default.\n",
    "\n",
    "### 1. Build Python Scoring Pipeline\n",
    "\n",
    "The Python Scoring Pipeline has been built by default based on our config.toml settings.  We can get the path to the Python Scoring Pipeline in our experiment object."
   ]
  },
  {
   "cell_type": "code",
   "execution_count": 45,
   "metadata": {},
   "outputs": [
    {
     "data": {
      "text/plain": [
       "'h2oai_experiment_9cf5ed1c-f7fd-11e9-ab33-0242ac110002/scoring_pipeline/scorer.zip'"
      ]
     },
     "execution_count": 45,
     "metadata": {},
     "output_type": "execute_result"
    }
   ],
   "source": [
    "experiment.scoring_pipeline_path"
   ]
  },
  {
   "cell_type": "markdown",
   "metadata": {},
   "source": [
    "We can also build the Python Scoring Pipeline - this is useful if the **`make_python_scoring_pipeline`** option was set to false."
   ]
  },
  {
   "cell_type": "code",
   "execution_count": 46,
   "metadata": {},
   "outputs": [],
   "source": [
    "python_scoring_pipeline = h2oai.build_scoring_pipeline_sync(experiment.key)"
   ]
  },
  {
   "cell_type": "code",
   "execution_count": 47,
   "metadata": {},
   "outputs": [
    {
     "data": {
      "text/plain": [
       "'h2oai_experiment_9cf5ed1c-f7fd-11e9-ab33-0242ac110002/scoring_pipeline/scorer.zip'"
      ]
     },
     "execution_count": 47,
     "metadata": {},
     "output_type": "execute_result"
    }
   ],
   "source": [
    "python_scoring_pipeline.file_path"
   ]
  },
  {
   "cell_type": "markdown",
   "metadata": {},
   "source": [
    "Now we will download the scoring pipeline zip file."
   ]
  },
  {
   "cell_type": "code",
   "execution_count": null,
   "metadata": {},
   "outputs": [],
   "source": [
    "h2oai.download(python_scoring_pipeline.file_path, dest_dir=\".\")"
   ]
  },
  {
   "cell_type": "markdown",
   "metadata": {},
   "source": [
    "### 2. Build MOJO Scoring Pipeline\n",
    "\n",
    "The MOJO Scoring Pipeline has not been built by default because of our config.toml settings.  We can build the MOJO Scoring Pipeline using the Python client.  This is equivalent to selecting the **Build MOJO Scoring Pipeline** on the experiment screen."
   ]
  },
  {
   "cell_type": "code",
   "execution_count": 49,
   "metadata": {},
   "outputs": [],
   "source": [
    "mojo_scoring_pipeline = h2oai.build_mojo_pipeline_sync(experiment.key)"
   ]
  },
  {
   "cell_type": "code",
   "execution_count": 50,
   "metadata": {},
   "outputs": [
    {
     "data": {
      "text/plain": [
       "'h2oai_experiment_9cf5ed1c-f7fd-11e9-ab33-0242ac110002/mojo_pipeline/mojo.zip'"
      ]
     },
     "execution_count": 50,
     "metadata": {},
     "output_type": "execute_result"
    }
   ],
   "source": [
    "mojo_scoring_pipeline.file_path"
   ]
  },
  {
   "cell_type": "markdown",
   "metadata": {},
   "source": [
    "Now we can download the scoring pipeline zip file."
   ]
  },
  {
   "cell_type": "code",
   "execution_count": 60,
   "metadata": {},
   "outputs": [
    {
     "data": {
      "text/plain": [
       "'./mojo.zip'"
      ]
     },
     "execution_count": 60,
     "metadata": {},
     "output_type": "execute_result"
    }
   ],
   "source": [
    "h2oai.download(mojo_scoring_pipeline.file_path, dest_dir=\".\")"
   ]
  },
  {
   "cell_type": "markdown",
   "metadata": {
    "collapsed": true
   },
   "source": [
    "Once the MOJO Scoring Pipeline is built, the **Build MOJO Scoring Pipeline** changes to **Download MOJO Scoring Pipeline**.\n",
    "\n",
    "\n",
    "\n",
    "![Equivalent Steps in Driverless: Download MOJO](images/download_mojo.png)"
   ]
  }
 ],
 "metadata": {
  "kernelspec": {
   "display_name": "Python 3",
   "language": "python",
   "name": "python3"
  },
  "language_info": {
   "codemirror_mode": {
    "name": "ipython",
    "version": 3
   },
   "file_extension": ".py",
   "mimetype": "text/x-python",
   "name": "python",
   "nbconvert_exporter": "python",
   "pygments_lexer": "ipython3",
   "version": "3.6.5"
  }
 },
 "nbformat": 4,
 "nbformat_minor": 2
}
