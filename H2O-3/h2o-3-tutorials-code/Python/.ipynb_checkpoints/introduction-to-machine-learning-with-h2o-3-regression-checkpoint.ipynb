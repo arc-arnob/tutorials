{
 "cells": [
  {
   "cell_type": "markdown",
   "metadata": {},
   "source": [
    "## Task 1: Initial Setup"
   ]
  },
  {
   "cell_type": "code",
   "execution_count": null,
   "metadata": {},
   "outputs": [],
   "source": [
    "#Import H2O and other libaries that will be used in this tutorial \n",
    "import h2o\n",
    "from h2o.estimators import *\n",
    "from h2o.grid import *"
   ]
  },
  {
   "cell_type": "code",
   "execution_count": null,
   "metadata": {},
   "outputs": [],
   "source": [
    "import os\n",
    "\n",
    "startup  = '/home/h2o/bin/aquarium_startup'\n",
    "shutdown = '/home/h2o/bin/aquarium_stop'\n",
    "\n",
    "if os.path.exists(startup):\n",
    "    os.system(startup)\n",
    "    local_url = 'http://localhost:54321/h2o'\n",
    "    aquarium = True\n",
    "else:\n",
    "    local_url = 'http://localhost:54321'\n",
    "    aquarium = False"
   ]
  },
  {
   "cell_type": "code",
   "execution_count": null,
   "metadata": {},
   "outputs": [],
   "source": [
    "h2o.init(url = local_url)"
   ]
  },
  {
   "cell_type": "code",
   "execution_count": null,
   "metadata": {},
   "outputs": [],
   "source": [
    "#Import the dataset \n",
    "loan_level = h2o.import_file(\"https://s3.amazonaws.com/data.h2o.ai/DAI-Tutorials/loan_level_500k.csv\")"
   ]
  },
  {
   "cell_type": "markdown",
   "metadata": {
    "heading_collapsed": true
   },
   "source": [
    "## Task 2: Regression Concepts\n",
    "Please refer to the document\n"
   ]
  },
  {
   "cell_type": "markdown",
   "metadata": {},
   "source": [
    "## Task 3: Start Experiment"
   ]
  },
  {
   "cell_type": "code",
   "execution_count": null,
   "metadata": {},
   "outputs": [],
   "source": [
    "loan_level.head()"
   ]
  },
  {
   "cell_type": "code",
   "execution_count": null,
   "metadata": {},
   "outputs": [],
   "source": [
    "loan_level[\"ORIGINAL_INTEREST_RATE\"].describe()"
   ]
  },
  {
   "cell_type": "code",
   "execution_count": null,
   "metadata": {},
   "outputs": [],
   "source": [
    "loan_level[\"ORIGINAL_INTEREST_RATE\"].hist()"
   ]
  },
  {
   "cell_type": "code",
   "execution_count": null,
   "metadata": {},
   "outputs": [],
   "source": [
    "train, valid, test = loan_level.split_frame([0.70, 0.15], seed = 42)\n",
    "print(\"train:%d valid:%d test:%d\" % (train.nrows, valid.nrows, test.nrows))"
   ]
  },
  {
   "cell_type": "code",
   "execution_count": null,
   "metadata": {},
   "outputs": [],
   "source": [
    "y = \"ORIGINAL_INTEREST_RATE\"\n",
    "\n",
    "ignore = [\"ORIGINAL_INTEREST_RATE\", \n",
    "          \"FIRST_PAYMENT_DATE\", \n",
    "          \"MATURITY_DATE\", \n",
    "          \"MORTGAGE_INSURANCE_PERCENTAGE\", \n",
    "          \"PREPAYMENT_PENALTY_MORTGAGE_FLAG\", \n",
    "          \"LOAN_SEQUENCE_NUMBER\", \n",
    "          \"PREPAID\", \n",
    "          \"DELINQUENT\", \n",
    "          \"PRODUCT_TYPE\"] \n",
    "\n",
    "x = list(set(train.names) - set(ignore))"
   ]
  },
  {
   "cell_type": "markdown",
   "metadata": {},
   "source": [
    "## Task 4: Build an XGBoost Model"
   ]
  },
  {
   "cell_type": "code",
   "execution_count": null,
   "metadata": {},
   "outputs": [],
   "source": [
    "xgb = H2OXGBoostEstimator(seed = 42, model_id = 'XGBoost', \n",
    "                          nfolds = 0, keep_cross_validation_predictions = False)\n",
    "\n",
    "%time xgb.train(x = x, y = y, training_frame = train, validation_frame = valid)"
   ]
  },
  {
   "cell_type": "code",
   "execution_count": null,
   "metadata": {
    "scrolled": false
   },
   "outputs": [],
   "source": [
    "xgb"
   ]
  },
  {
   "cell_type": "code",
   "execution_count": null,
   "metadata": {},
   "outputs": [],
   "source": [
    "xgb.plot()"
   ]
  },
  {
   "cell_type": "code",
   "execution_count": null,
   "metadata": {},
   "outputs": [],
   "source": [
    "xgb.varimp_plot()"
   ]
  },
  {
   "cell_type": "code",
   "execution_count": null,
   "metadata": {},
   "outputs": [],
   "source": [
    "xgb_def_pred = xgb.predict(valid)\n",
    "xgb_def_pred.cbind(valid['ORIGINAL_INTEREST_RATE'])"
   ]
  },
  {
   "cell_type": "code",
   "execution_count": null,
   "metadata": {},
   "outputs": [],
   "source": [
    "default_xgb_per = xgb.model_performance(valid)"
   ]
  },
  {
   "cell_type": "markdown",
   "metadata": {},
   "source": [
    "## Task 5: Build a Deep Learning Model"
   ]
  },
  {
   "cell_type": "code",
   "execution_count": null,
   "metadata": {},
   "outputs": [],
   "source": [
    "dl = H2ODeepLearningEstimator(seed = 42, model_id = 'DL',\n",
    "                              nfolds = 0,\n",
    "                              keep_cross_validation_predictions = False)\n",
    "\n",
    "%time dl.train(x = x, y = y, training_frame = train, validation_frame = valid)"
   ]
  },
  {
   "cell_type": "code",
   "execution_count": null,
   "metadata": {
    "scrolled": false
   },
   "outputs": [],
   "source": [
    "dl"
   ]
  },
  {
   "cell_type": "code",
   "execution_count": null,
   "metadata": {},
   "outputs": [],
   "source": [
    "print(\"epochs = \", dl.params['epochs'])"
   ]
  },
  {
   "cell_type": "code",
   "execution_count": null,
   "metadata": {},
   "outputs": [],
   "source": [
    "dl.plot()"
   ]
  },
  {
   "cell_type": "code",
   "execution_count": null,
   "metadata": {},
   "outputs": [],
   "source": [
    "dl.varimp_plot()"
   ]
  },
  {
   "cell_type": "code",
   "execution_count": null,
   "metadata": {},
   "outputs": [],
   "source": [
    "default_dl_per = dl.model_performance(valid)"
   ]
  },
  {
   "cell_type": "markdown",
   "metadata": {},
   "source": [
    "## Task 6: Tune the XGBoost Model with H2O GridSearch"
   ]
  },
  {
   "cell_type": "code",
   "execution_count": null,
   "metadata": {},
   "outputs": [],
   "source": [
    "xgb = H2OXGBoostEstimator(model_id = 'xgb', ntrees = 300,\n",
    "                          stopping_rounds = 3, #default\n",
    "                          stopping_tolerance = 1e-3, #default\n",
    "                          stopping_metric = \"rmse\", #default\n",
    "                          seed = 42\n",
    "    )\n",
    "\n",
    "hyper_params = {'max_depth' : [5,7,9,10,12,13,15,20]\n",
    "               }\n",
    "\n",
    "grid_id = 'max_depth_grid'\n",
    "\n",
    "search_criteria = { \"strategy\":\"Cartesian\"}\n",
    "\n",
    "xgb_grid = H2OGridSearch(model = xgb, \n",
    "                         hyper_params = hyper_params,\n",
    "                         grid_id = grid_id,\n",
    "                         search_criteria = search_criteria\n",
    "                         )\n",
    "\n",
    "%time xgb_grid.train(x = x, y = y, training_frame = train, validation_frame = valid)"
   ]
  },
  {
   "cell_type": "code",
   "execution_count": null,
   "metadata": {},
   "outputs": [],
   "source": [
    "sorted_xgb = xgb_grid.get_grid(sort_by = 'rmse',decreasing = False)\n",
    "sorted_xgb.sorted_metric_table()"
   ]
  },
  {
   "cell_type": "code",
   "execution_count": null,
   "metadata": {},
   "outputs": [],
   "source": [
    "xgb = H2OXGBoostEstimator(model_id = 'xgb_grid', ntrees = 500, \n",
    "                          learn_rate = 0.25,\n",
    "                          stopping_rounds = 3, #default\n",
    "                          stopping_tolerance = 1e-3, #default\n",
    "                          stopping_metric = \"rmse\", #default\n",
    "                          seed = 42)\n",
    "\n",
    "hyper_params = {'max_depth' : [5,6,7,9],\n",
    "                'sample_rate': [x/100. for x in range(20,101)],\n",
    "                'col_sample_rate' : [x/100. for x in range(20,101)],\n",
    "                'col_sample_rate_per_tree': [x/100. for x in range(20,101)]\n",
    "               }\n",
    "\n",
    "search_criteria_tune = {'strategy': \"RandomDiscrete\",\n",
    "                        'max_runtime_secs': 900, #15 min  \n",
    "                        'max_models': 100,  ## build no more than 100 models\n",
    "                        'seed' : 42 \n",
    "                       }\n",
    "\n",
    "xgb_grid = H2OGridSearch(xgb, hyper_params,\n",
    "                         grid_id = 'random_grid',\n",
    "                         search_criteria = search_criteria_tune)\n",
    "\n",
    "%time xgb_grid.train(x = x, y = y, training_frame = train, validation_frame = valid)"
   ]
  },
  {
   "cell_type": "code",
   "execution_count": null,
   "metadata": {},
   "outputs": [],
   "source": [
    "sorted_xgb = xgb_grid.get_grid(sort_by = 'rmse',decreasing = False)\n",
    "sorted_xgb.sorted_metric_table()"
   ]
  },
  {
   "cell_type": "code",
   "execution_count": null,
   "metadata": {
    "scrolled": false
   },
   "outputs": [],
   "source": [
    "best_xgb_model = xgb_grid.models[0] \n",
    "best_xgb_model"
   ]
  },
  {
   "cell_type": "code",
   "execution_count": null,
   "metadata": {},
   "outputs": [],
   "source": [
    "tuned_xgb_per = best_xgb_model.model_performance(valid)"
   ]
  },
  {
   "cell_type": "code",
   "execution_count": null,
   "metadata": {},
   "outputs": [],
   "source": [
    "print(\"Default XGB RMSE: %.4f \\nTuned XGB RMSE:%.4f\" % (default_xgb_per.rmse(), tuned_xgb_per.rmse()))"
   ]
  },
  {
   "cell_type": "code",
   "execution_count": null,
   "metadata": {},
   "outputs": [],
   "source": [
    "print(\"Default XGB MAE: %.4f \\nTuned XGB MAE:%.4f\" % (default_xgb_per.mae(), tuned_xgb_per.mae()))"
   ]
  },
  {
   "cell_type": "markdown",
   "metadata": {},
   "source": [
    "## Task 7: Tune the Deep Learning model with H2O GridSearch"
   ]
  },
  {
   "cell_type": "code",
   "execution_count": null,
   "metadata": {},
   "outputs": [],
   "source": [
    "dl = H2ODeepLearningEstimator(seed = 42, model_id = 'DL',\n",
    "                              nfolds = 0,\n",
    "                              keep_cross_validation_predictions = False,\n",
    "                              epochs = 10,\n",
    "                              activation = 'rectifier_with_dropout',\n",
    "                              stopping_rounds = 5, #default\n",
    "                              stopping_tolerance = 1e-3, #default\n",
    "                              stopping_metric = \"rmse\", #default\n",
    "                              \n",
    "                              )\n",
    "\n",
    "hyper_params = {'hidden' : [[100, 100], [165, 165], [200,200], [330,330], \n",
    "                            [165, 200]],\n",
    "                'hidden_dropout_ratios' : [[0,0], [0.01,0.01], [0.15,0.15], \n",
    "                                           [0.30, 0.30],[0.5,0.5]]\n",
    "               }\n",
    "\n",
    "search_criteria_tune = {'strategy': \"RandomDiscrete\",\n",
    "                        'max_runtime_secs': 900, #15 min  \n",
    "                        'max_models': 100,  ## build no more than 100 models\n",
    "                        'seed' : 42 }\n",
    "\n",
    "dl_grid = H2OGridSearch(model = dl, \n",
    "                        hyper_params = hyper_params,\n",
    "                        grid_id = 'random_dl_grid',\n",
    "                        search_criteria = search_criteria_tune)\n",
    "\n",
    "%time dl_grid.train(x = x, y = y, training_frame = train, validation_frame = valid)"
   ]
  },
  {
   "cell_type": "code",
   "execution_count": null,
   "metadata": {},
   "outputs": [],
   "source": [
    "hidden_per = dl_grid.get_grid(sort_by = 'rmse', decreasing = False)\n",
    "hidden_per.sorted_metric_table()"
   ]
  },
  {
   "cell_type": "code",
   "execution_count": null,
   "metadata": {},
   "outputs": [],
   "source": [
    "dl = H2ODeepLearningEstimator(epochs = 10,\n",
    "                              hidden = [100,100],\n",
    "                              hidden_dropout_ratios = [0.01,0.01],\n",
    "                              seed = 42,\n",
    "                              model_id = 'DL',\n",
    "                              activation = 'rectifier_with_dropout',\n",
    "                              stopping_rounds = 3, \n",
    "                              stopping_tolerance = 1e-3, #default\n",
    "                              stopping_metric = \"rmse\", #default\n",
    "                              adaptive_rate = True)\n",
    "\n",
    "hyper_params = {'max_w2'  : [1e38, 1e35, 1e36, 1e37, 1e34, 5e35],\n",
    "                'l2'      : [1e-7, 1e-6, 1e-5, 1e-4, 5e-4, 1e-3, 0],\n",
    "               }\n",
    "\n",
    "search_criteria_tune = {'strategy': \"RandomDiscrete\",\n",
    "                        'max_runtime_secs': 900, #15 min  \n",
    "                        'max_models': 100,  ## build no more than 100 models\n",
    "                        'seed' : 42 \n",
    "                       }\n",
    "\n",
    "dl_grid = H2OGridSearch(model = dl, \n",
    "                         hyper_params = hyper_params,\n",
    "                         grid_id = 'random_dl_search',\n",
    "                         search_criteria = search_criteria_tune)\n",
    "\n",
    "%time dl_grid.train(x = x, y = y, training_frame = train, validation_frame = valid)"
   ]
  },
  {
   "cell_type": "code",
   "execution_count": null,
   "metadata": {},
   "outputs": [],
   "source": [
    "dl_perf = dl_grid.get_grid(sort_by = 'rmse', decreasing = False)\n",
    "dl_perf.sorted_metric_table()"
   ]
  },
  {
   "cell_type": "code",
   "execution_count": null,
   "metadata": {},
   "outputs": [],
   "source": [
    "best_dl_model = dl_grid.models[0]"
   ]
  },
  {
   "cell_type": "code",
   "execution_count": null,
   "metadata": {},
   "outputs": [],
   "source": [
    "dl_checkpoint = H2ODeepLearningEstimator(checkpoint = best_dl_model.model_id,\n",
    "                                         epochs = 200,\n",
    "                                         hidden = [100,100],\n",
    "                                         hidden_dropout_ratios = [0.01,0.01],\n",
    "                                         adaptive_rate = True,\n",
    "                                         l2 = 1.0e-7,\n",
    "                                         max_w2 = 1e35,\n",
    "                                         reproducible = True,                                     \n",
    "                                         model_id = 'DL_checkpoint',\n",
    "                                         activation = 'rectifier_with_dropout',\n",
    "                                         distribution = 'auto',\n",
    "                                         seed = 42,\n",
    "                                         stopping_metric = 'RMSE',\n",
    "                                         stopping_tolerance = 1e-3,\n",
    "                                         stopping_rounds = 5)\n",
    "\n",
    "%time dl_checkpoint.train(x = x, y = y, training_frame = train, validation_frame = valid)"
   ]
  },
  {
   "cell_type": "code",
   "execution_count": null,
   "metadata": {
    "scrolled": false
   },
   "outputs": [],
   "source": [
    "dl_checkpoint"
   ]
  },
  {
   "cell_type": "code",
   "execution_count": null,
   "metadata": {},
   "outputs": [],
   "source": [
    "tuned_dl_per = dl_checkpoint.model_performance(valid)\n",
    "print(\"Default DL Model RMSE: %.4f \\nTuned DL Model RMSE:%.4f\" % (default_dl_per.rmse(), tuned_dl_per.rmse()))"
   ]
  },
  {
   "cell_type": "code",
   "execution_count": null,
   "metadata": {},
   "outputs": [],
   "source": [
    "print(\"Default DL Model MAE: %.4f \\nTuned DL Model MAE:%.4f\" % (default_dl_per.mae(), tuned_dl_per.mae()))"
   ]
  },
  {
   "cell_type": "markdown",
   "metadata": {},
   "source": [
    "## Task 8: Test Set Performance"
   ]
  },
  {
   "cell_type": "code",
   "execution_count": null,
   "metadata": {},
   "outputs": [],
   "source": [
    "dl_test_per = dl_checkpoint.model_performance(test)\n",
    "xgb_test_per = best_xgb_model.model_performance(test)"
   ]
  },
  {
   "cell_type": "code",
   "execution_count": null,
   "metadata": {},
   "outputs": [],
   "source": [
    "print(\"XGBoost Test RMSE: %.4f  \\nDeep Learning Model Test RMSE: %.4f \" % \n",
    "      (xgb_test_per.rmse(), dl_test_per.rmse()))"
   ]
  },
  {
   "cell_type": "code",
   "execution_count": null,
   "metadata": {},
   "outputs": [],
   "source": [
    "print(\"XGBoost Test MAE: %.4f  \\nDeep Learning model Test MAE: %.4f \" % \n",
    "      (xgb_test_per.mae(), dl_test_per.mae()))"
   ]
  },
  {
   "cell_type": "code",
   "execution_count": null,
   "metadata": {},
   "outputs": [],
   "source": [
    "xgb_tuned_pred = best_xgb_model.predict(test) #get predictions from xgboost\n",
    "test_rate_pred = test['ORIGINAL_INTEREST_RATE'].cbind(xgb_tuned_pred)#combined xgb predictions with actual interest rate\n",
    "dl_tuned_pred = dl_checkpoint.predict(test)#get predictions from Deep Learning Model\n",
    "test_rate_pred.cbind(dl_tuned_pred)"
   ]
  },
  {
   "cell_type": "markdown",
   "metadata": {},
   "source": [
    "## Task 9: Challenge"
   ]
  },
  {
   "cell_type": "markdown",
   "metadata": {},
   "source": [
    "Exercise 1: Tune a Deep Learning Model with at least two hidden layers. Use the RMSE and MAE from this tutorial as benchmarks, and try to get a lower RMSE and lower MAE from the tuned model in this tutorial. The grid searches shown below are just an option, you could use `adaptive_rate = True` and tune other parameters."
   ]
  },
  {
   "cell_type": "markdown",
   "metadata": {
    "solution2": "hidden",
    "solution2_first": true
   },
   "source": [
    "#### We start by using 2 hidden layers with 165 neurons, and try to find a good dropout ratio"
   ]
  },
  {
   "cell_type": "code",
   "execution_count": null,
   "metadata": {
    "code_folding": [],
    "solution2": "hidden"
   },
   "outputs": [],
   "source": [
    "dl = H2ODeepLearningEstimator(epochs = 10,\n",
    "                              hidden = [165,165],\n",
    "                              seed = 42,\n",
    "                              model_id = 'DL',\n",
    "                              activation = 'rectifier_with_dropout')\n",
    "\n",
    "hyper_params = {'hidden_dropout_ratios' : [[0,0], [0.1, 0.1], [0.15, 0.15], [0.25,0.25], [0.3,0.3], \n",
    "                                           [0.2,0.2], [0.35,0.35],[0.3,0.0]]\n",
    "               }\n",
    "\n",
    "search_criteria_tune = {'strategy': \"Cartesian\"\n",
    "                       }\n",
    "\n",
    "dl_grid = H2OGridSearch(model = dl, \n",
    "                        hyper_params = hyper_params,\n",
    "                        grid_id = 'challenge_drop_grid',\n",
    "                        search_criteria = search_criteria_tune)\n",
    "\n",
    "%time dl_grid.train(x = x, y = y, training_frame = train, validation_frame = valid)\n",
    "\n",
    "dropout_per = dl_grid.get_grid(sort_by = 'rmse', decreasing = False)\n",
    "dropout_per.sorted_metric_table()"
   ]
  },
  {
   "cell_type": "markdown",
   "metadata": {
    "solution2": "hidden",
    "solution2_first": true
   },
   "source": [
    "#### Find a learning rate"
   ]
  },
  {
   "cell_type": "code",
   "execution_count": null,
   "metadata": {
    "solution2": "hidden"
   },
   "outputs": [],
   "source": [
    "dl = H2ODeepLearningEstimator(epochs = 10,\n",
    "                              hidden = [165,165],\n",
    "                              seed = 42,\n",
    "                              model_id = 'DL',\n",
    "                              activation = 'rectifier_with_dropout',\n",
    "                              hidden_dropout_ratios = [0.2,0.2],\n",
    "                              distribution = 'auto',\n",
    "                              adaptive_rate = False)\n",
    "\n",
    "hyper_params = { 'rate' : [0.0001, 0.0005, 0.0008, 0.001, 0.0015, 0.0020, 0.003, 0.004, 0.007, 0.009]\n",
    "               }\n",
    "\n",
    "search_criteria_tune = {'strategy': \"Cartesian\",\n",
    "                       }\n",
    "\n",
    "dl_grid = H2OGridSearch(model = dl, hyper_params = hyper_params,\n",
    "                         grid_id = 'challenge_rate_grid_2',\n",
    "                         search_criteria = search_criteria_tune)\n",
    "\n",
    "%time dl_grid.train(x = x, y = y, training_frame = train, validation_frame = valid)\n",
    "\n",
    "learn_per = dl_grid.get_grid(sort_by = 'rmse', decreasing = False)\n",
    "learn_per.sorted_metric_table()"
   ]
  },
  {
   "cell_type": "markdown",
   "metadata": {
    "solution2": "hidden",
    "solution2_first": true
   },
   "source": [
    "#### Tune the parameters related to learn rate"
   ]
  },
  {
   "cell_type": "code",
   "execution_count": null,
   "metadata": {
    "solution2": "hidden"
   },
   "outputs": [],
   "source": [
    "dl = H2ODeepLearningEstimator(epochs = 10,\n",
    "                              hidden = [165,165],\n",
    "                              seed = 42,\n",
    "                              model_id = 'DL',\n",
    "                              activation = 'rectifier_with_dropout',\n",
    "                              hidden_dropout_ratios = [0.25, 0.25],\n",
    "                              distribution = 'auto',\n",
    "                              adaptive_rate = False,\n",
    "                              l1 = 0,\n",
    "                              l2 = 1e-5,\n",
    "                              max_w2 = 3.4028235e38,\n",
    "                              rate = 0.002)\n",
    "\n",
    "hyper_params = {'rate_annealing' : [1e-6, 1e-7, 1e-8, 1e-5],\n",
    "                'rate_decay': [1, 0.8, 0.9, 1.1, 1.2],\n",
    "                'momentum_ramp' : [10000, 15000, 5000, 20000, 50000, 100000],\n",
    "                'momentum_stable' : [0.9, 0.95, 0.99, 0.999],\n",
    "                'momentum_start' : [0.9, 0.4, 0.5, 0.7, 0.8]\n",
    "               }\n",
    "\n",
    "search_criteria_tune = {'strategy': \"RandomDiscrete\",\n",
    "                        'max_runtime_secs': 1200, #15 min  \n",
    "                        'max_models': 100,  ## build no more than 100 models\n",
    "                        'seed' : 42 \n",
    "                       }\n",
    "\n",
    "dl_grid = H2OGridSearch(model = dl, \n",
    "                        hyper_params = hyper_params,\n",
    "                        grid_id = 'challenge_rate_params_grid',\n",
    "                        search_criteria = search_criteria_tune)\n",
    "\n",
    "%time dl_grid.train(x = x, y = y, training_frame = train, validation_frame = valid)\n",
    "\n",
    "learn_per = dl_grid.get_grid(sort_by = 'rmse', decreasing = False)\n",
    "learn_per.sorted_metric_table()"
   ]
  },
  {
   "cell_type": "markdown",
   "metadata": {},
   "source": [
    "### Shutdown Cluster"
   ]
  },
  {
   "cell_type": "code",
   "execution_count": null,
   "metadata": {},
   "outputs": [],
   "source": [
    "h2o.cluster().shutdown()"
   ]
  },
  {
   "cell_type": "code",
   "execution_count": null,
   "metadata": {},
   "outputs": [],
   "source": []
  }
 ],
 "metadata": {
  "kernelspec": {
   "display_name": "Python 3",
   "language": "python",
   "name": "python3"
  },
  "language_info": {
   "codemirror_mode": {
    "name": "ipython",
    "version": 3
   },
   "file_extension": ".py",
   "mimetype": "text/x-python",
   "name": "python",
   "nbconvert_exporter": "python",
   "pygments_lexer": "ipython3",
   "version": "3.6.10"
  }
 },
 "nbformat": 4,
 "nbformat_minor": 2
}
